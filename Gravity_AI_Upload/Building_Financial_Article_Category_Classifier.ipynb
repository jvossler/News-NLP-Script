{
  "nbformat": 4,
  "nbformat_minor": 0,
  "metadata": {
    "colab": {
      "name": "Building Financial Article Category Classifier.ipynb",
      "provenance": [],
      "authorship_tag": "ABX9TyPWBBcA6+kJXPDti1Ed12eP",
      "include_colab_link": true
    },
    "kernelspec": {
      "name": "python3",
      "display_name": "Python 3"
    },
    "language_info": {
      "name": "python"
    }
  },
  "cells": [
    {
      "cell_type": "markdown",
      "metadata": {
        "id": "view-in-github",
        "colab_type": "text"
      },
      "source": [
        "<a href=\"https://colab.research.google.com/github/jvossler/News-NLP-Script/blob/main/Building_Financial_Article_Category_Classifier.ipynb\" target=\"_parent\"><img src=\"https://colab.research.google.com/assets/colab-badge.svg\" alt=\"Open In Colab\"/></a>"
      ]
    },
    {
      "cell_type": "code",
      "execution_count": 1,
      "metadata": {
        "id": "dlC2sMqr0gRi"
      },
      "outputs": [],
      "source": [
        "# Term Frequency Inverse Document Frequency (tfidf)\n",
        "from sklearn.feature_extraction.text import TfidfVectorizer\n",
        "from sklearn.ensemble import RandomForestClassifier\n",
        "from sklearn import preprocessing\n",
        "import pandas as pd\n",
        "import json\n",
        "import pickle"
      ]
    },
    {
      "cell_type": "code",
      "source": [
        "financial_corpus_df = pd.read_csv('training_data.csv')"
      ],
      "metadata": {
        "id": "gca7k1wp1BHg"
      },
      "execution_count": 4,
      "outputs": []
    },
    {
      "cell_type": "code",
      "source": [
        "financial_corpus_df"
      ],
      "metadata": {
        "colab": {
          "base_uri": "https://localhost:8080/",
          "height": 424
        },
        "id": "wXONPPrE1E4M",
        "outputId": "7355bcbe-9cda-4572-85c2-65fd25c2bcb3"
      },
      "execution_count": 5,
      "outputs": [
        {
          "output_type": "execute_result",
          "data": {
            "text/plain": [
              "         id               category  \\\n",
              "0      5639  International_Finance   \n",
              "1      2673        Earning_Reports   \n",
              "2      2056            Commodities   \n",
              "3      3455                Economy   \n",
              "4      4406                  Fraud   \n",
              "...     ...                    ...   \n",
              "5426  10024            Real_Estate   \n",
              "5427    167                Capital   \n",
              "5428   2533        Earning_Reports   \n",
              "5429   5543  International_Finance   \n",
              "5430   2792        Earning_Reports   \n",
              "\n",
              "                                                  title  \\\n",
              "0     How Has Devaluation of the Yuan Impacted Globa...   \n",
              "1     Qorvo® Announces Fiscal 2022 Third Quarter Fin...   \n",
              "2     Why Gatos Silver Stock Fell Another 15.5% at t...   \n",
              "3     Healthcare industry expects Budget 2022 to hik...   \n",
              "4     American FX Fund CEO Sent to Jail for Running ...   \n",
              "...                                                 ...   \n",
              "5426  United Real Estate expands to Alabama with 2nd...   \n",
              "5427  CTDOT Marks Transit Equity Day 2022 with Commi...   \n",
              "5428  Lee Enterprises reports strong digital growth ...   \n",
              "5429  Fuel for Thought: Persian Gulf energy producer...   \n",
              "5430  Tesla's entire year hinges on answering one bi...   \n",
              "\n",
              "                                                   body  \n",
              "0     How Has the Devaluation of the Yuan Impacted G...  \n",
              "1     GREENSBORO, N.C., Feb. 02, 2022 (GLOBE NEWSWIR...  \n",
              "2     Shares of Gatos Silver (NYSE:GATO) fell 15.5% ...  \n",
              "3     Healthcare industry expects Budget 2022 to hik...  \n",
              "4     The U.S Federal Bureau of Investigation (FBI) ...  \n",
              "...                                                 ...  \n",
              "5426  Dallas-based brokerage and franchisor United R...  \n",
              "5427  (Newington, CT) - The Connecticut Department o...  \n",
              "5428  Digital-only subscribers grew 57%; exceeds hal...  \n",
              "5429  Geopolitics has jumped ahead of market fundame...  \n",
              "5430  Tesla reports second-quarter earnings on Wedne...  \n",
              "\n",
              "[5431 rows x 4 columns]"
            ],
            "text/html": [
              "\n",
              "  <div id=\"df-a1a46130-06d0-458c-9551-9b9f294c64f6\">\n",
              "    <div class=\"colab-df-container\">\n",
              "      <div>\n",
              "<style scoped>\n",
              "    .dataframe tbody tr th:only-of-type {\n",
              "        vertical-align: middle;\n",
              "    }\n",
              "\n",
              "    .dataframe tbody tr th {\n",
              "        vertical-align: top;\n",
              "    }\n",
              "\n",
              "    .dataframe thead th {\n",
              "        text-align: right;\n",
              "    }\n",
              "</style>\n",
              "<table border=\"1\" class=\"dataframe\">\n",
              "  <thead>\n",
              "    <tr style=\"text-align: right;\">\n",
              "      <th></th>\n",
              "      <th>id</th>\n",
              "      <th>category</th>\n",
              "      <th>title</th>\n",
              "      <th>body</th>\n",
              "    </tr>\n",
              "  </thead>\n",
              "  <tbody>\n",
              "    <tr>\n",
              "      <th>0</th>\n",
              "      <td>5639</td>\n",
              "      <td>International_Finance</td>\n",
              "      <td>How Has Devaluation of the Yuan Impacted Globa...</td>\n",
              "      <td>How Has the Devaluation of the Yuan Impacted G...</td>\n",
              "    </tr>\n",
              "    <tr>\n",
              "      <th>1</th>\n",
              "      <td>2673</td>\n",
              "      <td>Earning_Reports</td>\n",
              "      <td>Qorvo® Announces Fiscal 2022 Third Quarter Fin...</td>\n",
              "      <td>GREENSBORO, N.C., Feb. 02, 2022 (GLOBE NEWSWIR...</td>\n",
              "    </tr>\n",
              "    <tr>\n",
              "      <th>2</th>\n",
              "      <td>2056</td>\n",
              "      <td>Commodities</td>\n",
              "      <td>Why Gatos Silver Stock Fell Another 15.5% at t...</td>\n",
              "      <td>Shares of Gatos Silver (NYSE:GATO) fell 15.5% ...</td>\n",
              "    </tr>\n",
              "    <tr>\n",
              "      <th>3</th>\n",
              "      <td>3455</td>\n",
              "      <td>Economy</td>\n",
              "      <td>Healthcare industry expects Budget 2022 to hik...</td>\n",
              "      <td>Healthcare industry expects Budget 2022 to hik...</td>\n",
              "    </tr>\n",
              "    <tr>\n",
              "      <th>4</th>\n",
              "      <td>4406</td>\n",
              "      <td>Fraud</td>\n",
              "      <td>American FX Fund CEO Sent to Jail for Running ...</td>\n",
              "      <td>The U.S Federal Bureau of Investigation (FBI) ...</td>\n",
              "    </tr>\n",
              "    <tr>\n",
              "      <th>...</th>\n",
              "      <td>...</td>\n",
              "      <td>...</td>\n",
              "      <td>...</td>\n",
              "      <td>...</td>\n",
              "    </tr>\n",
              "    <tr>\n",
              "      <th>5426</th>\n",
              "      <td>10024</td>\n",
              "      <td>Real_Estate</td>\n",
              "      <td>United Real Estate expands to Alabama with 2nd...</td>\n",
              "      <td>Dallas-based brokerage and franchisor United R...</td>\n",
              "    </tr>\n",
              "    <tr>\n",
              "      <th>5427</th>\n",
              "      <td>167</td>\n",
              "      <td>Capital</td>\n",
              "      <td>CTDOT Marks Transit Equity Day 2022 with Commi...</td>\n",
              "      <td>(Newington, CT) - The Connecticut Department o...</td>\n",
              "    </tr>\n",
              "    <tr>\n",
              "      <th>5428</th>\n",
              "      <td>2533</td>\n",
              "      <td>Earning_Reports</td>\n",
              "      <td>Lee Enterprises reports strong digital growth ...</td>\n",
              "      <td>Digital-only subscribers grew 57%; exceeds hal...</td>\n",
              "    </tr>\n",
              "    <tr>\n",
              "      <th>5429</th>\n",
              "      <td>5543</td>\n",
              "      <td>International_Finance</td>\n",
              "      <td>Fuel for Thought: Persian Gulf energy producer...</td>\n",
              "      <td>Geopolitics has jumped ahead of market fundame...</td>\n",
              "    </tr>\n",
              "    <tr>\n",
              "      <th>5430</th>\n",
              "      <td>2792</td>\n",
              "      <td>Earning_Reports</td>\n",
              "      <td>Tesla's entire year hinges on answering one bi...</td>\n",
              "      <td>Tesla reports second-quarter earnings on Wedne...</td>\n",
              "    </tr>\n",
              "  </tbody>\n",
              "</table>\n",
              "<p>5431 rows × 4 columns</p>\n",
              "</div>\n",
              "      <button class=\"colab-df-convert\" onclick=\"convertToInteractive('df-a1a46130-06d0-458c-9551-9b9f294c64f6')\"\n",
              "              title=\"Convert this dataframe to an interactive table.\"\n",
              "              style=\"display:none;\">\n",
              "        \n",
              "  <svg xmlns=\"http://www.w3.org/2000/svg\" height=\"24px\"viewBox=\"0 0 24 24\"\n",
              "       width=\"24px\">\n",
              "    <path d=\"M0 0h24v24H0V0z\" fill=\"none\"/>\n",
              "    <path d=\"M18.56 5.44l.94 2.06.94-2.06 2.06-.94-2.06-.94-.94-2.06-.94 2.06-2.06.94zm-11 1L8.5 8.5l.94-2.06 2.06-.94-2.06-.94L8.5 2.5l-.94 2.06-2.06.94zm10 10l.94 2.06.94-2.06 2.06-.94-2.06-.94-.94-2.06-.94 2.06-2.06.94z\"/><path d=\"M17.41 7.96l-1.37-1.37c-.4-.4-.92-.59-1.43-.59-.52 0-1.04.2-1.43.59L10.3 9.45l-7.72 7.72c-.78.78-.78 2.05 0 2.83L4 21.41c.39.39.9.59 1.41.59.51 0 1.02-.2 1.41-.59l7.78-7.78 2.81-2.81c.8-.78.8-2.07 0-2.86zM5.41 20L4 18.59l7.72-7.72 1.47 1.35L5.41 20z\"/>\n",
              "  </svg>\n",
              "      </button>\n",
              "      \n",
              "  <style>\n",
              "    .colab-df-container {\n",
              "      display:flex;\n",
              "      flex-wrap:wrap;\n",
              "      gap: 12px;\n",
              "    }\n",
              "\n",
              "    .colab-df-convert {\n",
              "      background-color: #E8F0FE;\n",
              "      border: none;\n",
              "      border-radius: 50%;\n",
              "      cursor: pointer;\n",
              "      display: none;\n",
              "      fill: #1967D2;\n",
              "      height: 32px;\n",
              "      padding: 0 0 0 0;\n",
              "      width: 32px;\n",
              "    }\n",
              "\n",
              "    .colab-df-convert:hover {\n",
              "      background-color: #E2EBFA;\n",
              "      box-shadow: 0px 1px 2px rgba(60, 64, 67, 0.3), 0px 1px 3px 1px rgba(60, 64, 67, 0.15);\n",
              "      fill: #174EA6;\n",
              "    }\n",
              "\n",
              "    [theme=dark] .colab-df-convert {\n",
              "      background-color: #3B4455;\n",
              "      fill: #D2E3FC;\n",
              "    }\n",
              "\n",
              "    [theme=dark] .colab-df-convert:hover {\n",
              "      background-color: #434B5C;\n",
              "      box-shadow: 0px 1px 3px 1px rgba(0, 0, 0, 0.15);\n",
              "      filter: drop-shadow(0px 1px 2px rgba(0, 0, 0, 0.3));\n",
              "      fill: #FFFFFF;\n",
              "    }\n",
              "  </style>\n",
              "\n",
              "      <script>\n",
              "        const buttonEl =\n",
              "          document.querySelector('#df-a1a46130-06d0-458c-9551-9b9f294c64f6 button.colab-df-convert');\n",
              "        buttonEl.style.display =\n",
              "          google.colab.kernel.accessAllowed ? 'block' : 'none';\n",
              "\n",
              "        async function convertToInteractive(key) {\n",
              "          const element = document.querySelector('#df-a1a46130-06d0-458c-9551-9b9f294c64f6');\n",
              "          const dataTable =\n",
              "            await google.colab.kernel.invokeFunction('convertToInteractive',\n",
              "                                                     [key], {});\n",
              "          if (!dataTable) return;\n",
              "\n",
              "          const docLinkHtml = 'Like what you see? Visit the ' +\n",
              "            '<a target=\"_blank\" href=https://colab.research.google.com/notebooks/data_table.ipynb>data table notebook</a>'\n",
              "            + ' to learn more about interactive tables.';\n",
              "          element.innerHTML = '';\n",
              "          dataTable['output_type'] = 'display_data';\n",
              "          await google.colab.output.renderOutput(dataTable, element);\n",
              "          const docLink = document.createElement('div');\n",
              "          docLink.innerHTML = docLinkHtml;\n",
              "          element.appendChild(docLink);\n",
              "        }\n",
              "      </script>\n",
              "    </div>\n",
              "  </div>\n",
              "  "
            ]
          },
          "metadata": {},
          "execution_count": 5
        }
      ]
    },
    {
      "cell_type": "code",
      "source": [
        "# from google.colab import drive\n",
        "# drive.mount('/content/drive')"
      ],
      "metadata": {
        "id": "uf3A43Zq1Sis"
      },
      "execution_count": null,
      "outputs": []
    },
    {
      "cell_type": "code",
      "source": [
        "financial_corpus_df['category'].unique()"
      ],
      "metadata": {
        "colab": {
          "base_uri": "https://localhost:8080/"
        },
        "id": "WeAVQz6H1bzA",
        "outputId": "c4b2b1bc-a3dd-4214-b77c-5a0b4246c1de"
      },
      "execution_count": 6,
      "outputs": [
        {
          "output_type": "execute_result",
          "data": {
            "text/plain": [
              "array(['International_Finance', 'Earning_Reports', 'Commodities',\n",
              "       'Economy', 'Fraud', 'Mergers_Acquisitions', 'Policy', 'Oil',\n",
              "       'Capital', 'Litigation', 'Real_Estate'], dtype=object)"
            ]
          },
          "metadata": {},
          "execution_count": 6
        }
      ]
    },
    {
      "cell_type": "code",
      "source": [
        "label_encoder = preprocessing.LabelEncoder()\n",
        "label_encoder.fit(financial_corpus_df['category'])\n",
        "financial_corpus_df['label'] = label_encoder.transform(financial_corpus_df['category'])"
      ],
      "metadata": {
        "id": "t-V8J2SB11wK"
      },
      "execution_count": 8,
      "outputs": []
    },
    {
      "cell_type": "code",
      "source": [
        "financial_corpus_df['label'].unique()"
      ],
      "metadata": {
        "colab": {
          "base_uri": "https://localhost:8080/"
        },
        "id": "cQ3R5bFX2Bnn",
        "outputId": "e0baa579-e8fc-46a3-e963-b68cba590bd0"
      },
      "execution_count": 9,
      "outputs": [
        {
          "output_type": "execute_result",
          "data": {
            "text/plain": [
              "array([ 5,  2,  1,  3,  4,  7,  9,  8,  0,  6, 10])"
            ]
          },
          "metadata": {},
          "execution_count": 9
        }
      ]
    },
    {
      "cell_type": "code",
      "source": [
        "financial_corpus_df"
      ],
      "metadata": {
        "colab": {
          "base_uri": "https://localhost:8080/",
          "height": 424
        },
        "id": "ThfIO0og2VJB",
        "outputId": "3a99039e-71db-43f0-aa7e-983185d77284"
      },
      "execution_count": 10,
      "outputs": [
        {
          "output_type": "execute_result",
          "data": {
            "text/plain": [
              "         id               category  \\\n",
              "0      5639  International_Finance   \n",
              "1      2673        Earning_Reports   \n",
              "2      2056            Commodities   \n",
              "3      3455                Economy   \n",
              "4      4406                  Fraud   \n",
              "...     ...                    ...   \n",
              "5426  10024            Real_Estate   \n",
              "5427    167                Capital   \n",
              "5428   2533        Earning_Reports   \n",
              "5429   5543  International_Finance   \n",
              "5430   2792        Earning_Reports   \n",
              "\n",
              "                                                  title  \\\n",
              "0     How Has Devaluation of the Yuan Impacted Globa...   \n",
              "1     Qorvo® Announces Fiscal 2022 Third Quarter Fin...   \n",
              "2     Why Gatos Silver Stock Fell Another 15.5% at t...   \n",
              "3     Healthcare industry expects Budget 2022 to hik...   \n",
              "4     American FX Fund CEO Sent to Jail for Running ...   \n",
              "...                                                 ...   \n",
              "5426  United Real Estate expands to Alabama with 2nd...   \n",
              "5427  CTDOT Marks Transit Equity Day 2022 with Commi...   \n",
              "5428  Lee Enterprises reports strong digital growth ...   \n",
              "5429  Fuel for Thought: Persian Gulf energy producer...   \n",
              "5430  Tesla's entire year hinges on answering one bi...   \n",
              "\n",
              "                                                   body  label  \n",
              "0     How Has the Devaluation of the Yuan Impacted G...      5  \n",
              "1     GREENSBORO, N.C., Feb. 02, 2022 (GLOBE NEWSWIR...      2  \n",
              "2     Shares of Gatos Silver (NYSE:GATO) fell 15.5% ...      1  \n",
              "3     Healthcare industry expects Budget 2022 to hik...      3  \n",
              "4     The U.S Federal Bureau of Investigation (FBI) ...      4  \n",
              "...                                                 ...    ...  \n",
              "5426  Dallas-based brokerage and franchisor United R...     10  \n",
              "5427  (Newington, CT) - The Connecticut Department o...      0  \n",
              "5428  Digital-only subscribers grew 57%; exceeds hal...      2  \n",
              "5429  Geopolitics has jumped ahead of market fundame...      5  \n",
              "5430  Tesla reports second-quarter earnings on Wedne...      2  \n",
              "\n",
              "[5431 rows x 5 columns]"
            ],
            "text/html": [
              "\n",
              "  <div id=\"df-dcef6745-792a-4d09-9f30-bfd5d61d1709\">\n",
              "    <div class=\"colab-df-container\">\n",
              "      <div>\n",
              "<style scoped>\n",
              "    .dataframe tbody tr th:only-of-type {\n",
              "        vertical-align: middle;\n",
              "    }\n",
              "\n",
              "    .dataframe tbody tr th {\n",
              "        vertical-align: top;\n",
              "    }\n",
              "\n",
              "    .dataframe thead th {\n",
              "        text-align: right;\n",
              "    }\n",
              "</style>\n",
              "<table border=\"1\" class=\"dataframe\">\n",
              "  <thead>\n",
              "    <tr style=\"text-align: right;\">\n",
              "      <th></th>\n",
              "      <th>id</th>\n",
              "      <th>category</th>\n",
              "      <th>title</th>\n",
              "      <th>body</th>\n",
              "      <th>label</th>\n",
              "    </tr>\n",
              "  </thead>\n",
              "  <tbody>\n",
              "    <tr>\n",
              "      <th>0</th>\n",
              "      <td>5639</td>\n",
              "      <td>International_Finance</td>\n",
              "      <td>How Has Devaluation of the Yuan Impacted Globa...</td>\n",
              "      <td>How Has the Devaluation of the Yuan Impacted G...</td>\n",
              "      <td>5</td>\n",
              "    </tr>\n",
              "    <tr>\n",
              "      <th>1</th>\n",
              "      <td>2673</td>\n",
              "      <td>Earning_Reports</td>\n",
              "      <td>Qorvo® Announces Fiscal 2022 Third Quarter Fin...</td>\n",
              "      <td>GREENSBORO, N.C., Feb. 02, 2022 (GLOBE NEWSWIR...</td>\n",
              "      <td>2</td>\n",
              "    </tr>\n",
              "    <tr>\n",
              "      <th>2</th>\n",
              "      <td>2056</td>\n",
              "      <td>Commodities</td>\n",
              "      <td>Why Gatos Silver Stock Fell Another 15.5% at t...</td>\n",
              "      <td>Shares of Gatos Silver (NYSE:GATO) fell 15.5% ...</td>\n",
              "      <td>1</td>\n",
              "    </tr>\n",
              "    <tr>\n",
              "      <th>3</th>\n",
              "      <td>3455</td>\n",
              "      <td>Economy</td>\n",
              "      <td>Healthcare industry expects Budget 2022 to hik...</td>\n",
              "      <td>Healthcare industry expects Budget 2022 to hik...</td>\n",
              "      <td>3</td>\n",
              "    </tr>\n",
              "    <tr>\n",
              "      <th>4</th>\n",
              "      <td>4406</td>\n",
              "      <td>Fraud</td>\n",
              "      <td>American FX Fund CEO Sent to Jail for Running ...</td>\n",
              "      <td>The U.S Federal Bureau of Investigation (FBI) ...</td>\n",
              "      <td>4</td>\n",
              "    </tr>\n",
              "    <tr>\n",
              "      <th>...</th>\n",
              "      <td>...</td>\n",
              "      <td>...</td>\n",
              "      <td>...</td>\n",
              "      <td>...</td>\n",
              "      <td>...</td>\n",
              "    </tr>\n",
              "    <tr>\n",
              "      <th>5426</th>\n",
              "      <td>10024</td>\n",
              "      <td>Real_Estate</td>\n",
              "      <td>United Real Estate expands to Alabama with 2nd...</td>\n",
              "      <td>Dallas-based brokerage and franchisor United R...</td>\n",
              "      <td>10</td>\n",
              "    </tr>\n",
              "    <tr>\n",
              "      <th>5427</th>\n",
              "      <td>167</td>\n",
              "      <td>Capital</td>\n",
              "      <td>CTDOT Marks Transit Equity Day 2022 with Commi...</td>\n",
              "      <td>(Newington, CT) - The Connecticut Department o...</td>\n",
              "      <td>0</td>\n",
              "    </tr>\n",
              "    <tr>\n",
              "      <th>5428</th>\n",
              "      <td>2533</td>\n",
              "      <td>Earning_Reports</td>\n",
              "      <td>Lee Enterprises reports strong digital growth ...</td>\n",
              "      <td>Digital-only subscribers grew 57%; exceeds hal...</td>\n",
              "      <td>2</td>\n",
              "    </tr>\n",
              "    <tr>\n",
              "      <th>5429</th>\n",
              "      <td>5543</td>\n",
              "      <td>International_Finance</td>\n",
              "      <td>Fuel for Thought: Persian Gulf energy producer...</td>\n",
              "      <td>Geopolitics has jumped ahead of market fundame...</td>\n",
              "      <td>5</td>\n",
              "    </tr>\n",
              "    <tr>\n",
              "      <th>5430</th>\n",
              "      <td>2792</td>\n",
              "      <td>Earning_Reports</td>\n",
              "      <td>Tesla's entire year hinges on answering one bi...</td>\n",
              "      <td>Tesla reports second-quarter earnings on Wedne...</td>\n",
              "      <td>2</td>\n",
              "    </tr>\n",
              "  </tbody>\n",
              "</table>\n",
              "<p>5431 rows × 5 columns</p>\n",
              "</div>\n",
              "      <button class=\"colab-df-convert\" onclick=\"convertToInteractive('df-dcef6745-792a-4d09-9f30-bfd5d61d1709')\"\n",
              "              title=\"Convert this dataframe to an interactive table.\"\n",
              "              style=\"display:none;\">\n",
              "        \n",
              "  <svg xmlns=\"http://www.w3.org/2000/svg\" height=\"24px\"viewBox=\"0 0 24 24\"\n",
              "       width=\"24px\">\n",
              "    <path d=\"M0 0h24v24H0V0z\" fill=\"none\"/>\n",
              "    <path d=\"M18.56 5.44l.94 2.06.94-2.06 2.06-.94-2.06-.94-.94-2.06-.94 2.06-2.06.94zm-11 1L8.5 8.5l.94-2.06 2.06-.94-2.06-.94L8.5 2.5l-.94 2.06-2.06.94zm10 10l.94 2.06.94-2.06 2.06-.94-2.06-.94-.94-2.06-.94 2.06-2.06.94z\"/><path d=\"M17.41 7.96l-1.37-1.37c-.4-.4-.92-.59-1.43-.59-.52 0-1.04.2-1.43.59L10.3 9.45l-7.72 7.72c-.78.78-.78 2.05 0 2.83L4 21.41c.39.39.9.59 1.41.59.51 0 1.02-.2 1.41-.59l7.78-7.78 2.81-2.81c.8-.78.8-2.07 0-2.86zM5.41 20L4 18.59l7.72-7.72 1.47 1.35L5.41 20z\"/>\n",
              "  </svg>\n",
              "      </button>\n",
              "      \n",
              "  <style>\n",
              "    .colab-df-container {\n",
              "      display:flex;\n",
              "      flex-wrap:wrap;\n",
              "      gap: 12px;\n",
              "    }\n",
              "\n",
              "    .colab-df-convert {\n",
              "      background-color: #E8F0FE;\n",
              "      border: none;\n",
              "      border-radius: 50%;\n",
              "      cursor: pointer;\n",
              "      display: none;\n",
              "      fill: #1967D2;\n",
              "      height: 32px;\n",
              "      padding: 0 0 0 0;\n",
              "      width: 32px;\n",
              "    }\n",
              "\n",
              "    .colab-df-convert:hover {\n",
              "      background-color: #E2EBFA;\n",
              "      box-shadow: 0px 1px 2px rgba(60, 64, 67, 0.3), 0px 1px 3px 1px rgba(60, 64, 67, 0.15);\n",
              "      fill: #174EA6;\n",
              "    }\n",
              "\n",
              "    [theme=dark] .colab-df-convert {\n",
              "      background-color: #3B4455;\n",
              "      fill: #D2E3FC;\n",
              "    }\n",
              "\n",
              "    [theme=dark] .colab-df-convert:hover {\n",
              "      background-color: #434B5C;\n",
              "      box-shadow: 0px 1px 3px 1px rgba(0, 0, 0, 0.15);\n",
              "      filter: drop-shadow(0px 1px 2px rgba(0, 0, 0, 0.3));\n",
              "      fill: #FFFFFF;\n",
              "    }\n",
              "  </style>\n",
              "\n",
              "      <script>\n",
              "        const buttonEl =\n",
              "          document.querySelector('#df-dcef6745-792a-4d09-9f30-bfd5d61d1709 button.colab-df-convert');\n",
              "        buttonEl.style.display =\n",
              "          google.colab.kernel.accessAllowed ? 'block' : 'none';\n",
              "\n",
              "        async function convertToInteractive(key) {\n",
              "          const element = document.querySelector('#df-dcef6745-792a-4d09-9f30-bfd5d61d1709');\n",
              "          const dataTable =\n",
              "            await google.colab.kernel.invokeFunction('convertToInteractive',\n",
              "                                                     [key], {});\n",
              "          if (!dataTable) return;\n",
              "\n",
              "          const docLinkHtml = 'Like what you see? Visit the ' +\n",
              "            '<a target=\"_blank\" href=https://colab.research.google.com/notebooks/data_table.ipynb>data table notebook</a>'\n",
              "            + ' to learn more about interactive tables.';\n",
              "          element.innerHTML = '';\n",
              "          dataTable['output_type'] = 'display_data';\n",
              "          await google.colab.output.renderOutput(dataTable, element);\n",
              "          const docLink = document.createElement('div');\n",
              "          docLink.innerHTML = docLinkHtml;\n",
              "          element.appendChild(docLink);\n",
              "        }\n",
              "      </script>\n",
              "    </div>\n",
              "  </div>\n",
              "  "
            ]
          },
          "metadata": {},
          "execution_count": 10
        }
      ]
    },
    {
      "cell_type": "code",
      "source": [
        "vectorizer = TfidfVectorizer(stop_words = 'english', max_features = 1000)"
      ],
      "metadata": {
        "id": "xMw6ZzqX2XwR"
      },
      "execution_count": 11,
      "outputs": []
    },
    {
      "cell_type": "code",
      "source": [
        "x = financial_corpus_df['body']\n",
        "y = financial_corpus_df['label']"
      ],
      "metadata": {
        "id": "pKqchS7q3DWc"
      },
      "execution_count": 12,
      "outputs": []
    },
    {
      "cell_type": "code",
      "source": [
        "vectorized_x = vectorizer.fit_transform(x)"
      ],
      "metadata": {
        "id": "P7mAts-63Ir8"
      },
      "execution_count": 13,
      "outputs": []
    },
    {
      "cell_type": "code",
      "source": [
        "rf_clf = RandomForestClassifier()"
      ],
      "metadata": {
        "id": "0pSVSzf63P42"
      },
      "execution_count": 14,
      "outputs": []
    },
    {
      "cell_type": "code",
      "source": [
        "rf_clf.fit(vectorized_x, y)"
      ],
      "metadata": {
        "colab": {
          "base_uri": "https://localhost:8080/"
        },
        "id": "0L2a47Xy3YQ5",
        "outputId": "96dc0b04-6869-4879-b688-d67ade2b1648"
      },
      "execution_count": 15,
      "outputs": [
        {
          "output_type": "execute_result",
          "data": {
            "text/plain": [
              "RandomForestClassifier()"
            ]
          },
          "metadata": {},
          "execution_count": 15
        }
      ]
    },
    {
      "cell_type": "code",
      "source": [
        "pickle.dump(rf_clf, open('financial_text_classifier.pkl', 'wb'))\n",
        "pickle.dump(vectorizer, open('financial_text_vectorizer.pkl', 'wb'))\n",
        "pickle.dump(label_encoder, open('financial_text_encoder.pkl', 'wb'))"
      ],
      "metadata": {
        "id": "7LT7KFfF3he-"
      },
      "execution_count": 16,
      "outputs": []
    },
    {
      "cell_type": "code",
      "source": [
        ""
      ],
      "metadata": {
        "id": "YYFgg6gi4HNK"
      },
      "execution_count": null,
      "outputs": []
    },
    {
      "cell_type": "markdown",
      "source": [
        "# New Section"
      ],
      "metadata": {
        "id": "4hyKAGb85FVz"
      }
    }
  ]
}